{
 "cells": [
  {
   "cell_type": "markdown",
   "metadata": {},
   "source": [
    "\n",
    "blurb:\n",
    "\n",
    "Ever wanted to delve into Python for your work, but found that whichever material you tried using focused too much on a specific form of data analysis? Heard of Python packages and extensions that are supposed to apply to your work, but not sure how to put them into practice? This two-part workshop aims to give a general, field-agnostic overview of Python to get you familiar with what you need to get started with writing Python code for the specific needs of your research. The workshop will cover introductory Python from the ground up before delving into object-oriented programming and how field-specific Python packages take advantage of it to create all sorts of powerful tools. In the second half, we will go over making a basic custom Python object and use it break down how exactly these tools are created. With this workshop, we aim to give learners the foundational knowledge needed to take their Python journey in whichever direction they choose. \n",
    "\n",
    "Workshop 1 (1.5 hrs):\n",
    "- 15 min - introduction to the Python interpreter and the Jupyter environment\n",
    "- 30 min - brief introduction on the general concept of the Python interpreter, Python object types\n",
    "- 15 min - for loops and if/else statements\n",
    "- 30 min - reading from + writing to files in Python\n",
    "\n",
    "Workshop 2 (1.5 hrs):\n",
    "- 15 min - review from previous workshop\n",
    "- 1 hr 15 min - building a sample custom object class called fileparser that expands on the file reading/writing operations we learned earlier"
   ]
  },
  {
   "cell_type": "markdown",
   "metadata": {},
   "source": [
    "# Getting Started with Python - Part I\n",
    "\n",
    "words words words\n",
    "\n",
    "## 1.1 The Python interpreter and the Jupyter environment\n",
    "\n",
    "There are many ways to interact with Python. We can run lines of code one at a time into a prompt (using what is known as an _interpreter_) or write multiple lines into a _script_ that can then be run all at once.\n",
    "\n",
    "A middle ground to these two options is offered by **Jupyter**, which is also what we'll be using today. Jupyter files, or _notebooks_, combine text with code, and allow us to run one or more lines of code at once while also writing associated text. \n",
    "\n",
    "Once we've opened Jupyter using the Anaconda Navigator, let's create a new Python notebook. This will bring up a blank page with a space to enter text at the top. This space is referred to as a _cell_, and is how code _or_ text can be entered into Jupyter.\n",
    "\n",
    "To create a new code cell in Jupyter, we use the `+` icon on the top left of the screen. As soon as that button is pressed, a new cell will be created and the cursor will be ready to take in Python code. We can then write one or more lines of code in the cell before executing its contents with `Shift + Enter` or the Play icon on the toolbar.\n",
    "\n",
    "Let's try it now with some simple math:"
   ]
  },
  {
   "cell_type": "code",
   "execution_count": null,
   "metadata": {},
   "outputs": [],
   "source": [
    "2 + 2"
   ]
  },
  {
   "cell_type": "markdown",
   "metadata": {},
   "source": [
    "We see that once this code cell is run, the output will appear right beneath it, and Jupyter will automatically create a new code cell underneath for us to continue typing into. We can always go back and click on a previous cell to modify it if we would like, or to simply re-run it for whatever reason with `Shift + Enter` once more. \n",
    "\n",
    "These cells can also be used to store text. To change a cell into a text cell instead of a code cell, use the dropdown menu at the top of the screen that says `Code` and instead select `Markdown`. Markdown is a simple means of styling plain text that allows for easy addition of headers and italicized/bold words using plain text characters. In Jupyter, once we've written the contents of a Markdown cell, pressing `Shift + Enter` will render the text as we've written it. Let's try it now:"
   ]
  },
  {
   "cell_type": "markdown",
   "metadata": {},
   "source": [
    "> This is a sample Markdown cell. Here is some text in _italics_ and some text in **bold**. "
   ]
  },
  {
   "cell_type": "markdown",
   "metadata": {},
   "source": [
    "To go back and modify a Markdown cell after it's been rendered, simply double click on it. "
   ]
  },
  {
   "cell_type": "markdown",
   "metadata": {},
   "source": [
    "## 1.2 Basic Python object types"
   ]
  },
  {
   "cell_type": "markdown",
   "metadata": {},
   "source": [
    "With that out of the way, let's get into doing some actual Python.\n",
    "\n",
    "To begin with, it's key that we understand the different ways of encoding different types of information in Python. Python is very powerful and flexible, but we have to be careful in making sure Python understands how we want it to deal with the information we're providing. \n",
    "\n",
    "- introduce ints, floats, str\n",
    "- introduce methods and attributes (show str upper and how that doesn't work for ints) \n",
    "- briefly introduce lists and dicts and show some of their methods as well"
   ]
  },
  {
   "cell_type": "markdown",
   "metadata": {},
   "source": [
    "### 1.2.1 Numerical data\n",
    "\n",
    "Python features two ways to encode numerical data.\n",
    "\n",
    "Here's math with _integers_:"
   ]
  },
  {
   "cell_type": "code",
   "execution_count": 1,
   "metadata": {},
   "outputs": [
    {
     "data": {
      "text/plain": [
       "4"
      ]
     },
     "execution_count": 1,
     "metadata": {},
     "output_type": "execute_result"
    }
   ],
   "source": [
    "2 + 2"
   ]
  },
  {
   "cell_type": "code",
   "execution_count": 6,
   "metadata": {},
   "outputs": [
    {
     "data": {
      "text/plain": [
       "15"
      ]
     },
     "execution_count": 6,
     "metadata": {},
     "output_type": "execute_result"
    }
   ],
   "source": [
    "3 * 5"
   ]
  },
  {
   "cell_type": "code",
   "execution_count": 4,
   "metadata": {},
   "outputs": [
    {
     "data": {
      "text/plain": [
       "8"
      ]
     },
     "execution_count": 4,
     "metadata": {},
     "output_type": "execute_result"
    }
   ],
   "source": [
    "2 ** 3"
   ]
  },
  {
   "cell_type": "markdown",
   "metadata": {},
   "source": [
    "Versus math with _floating point numbers_, or _floats_ for short:"
   ]
  },
  {
   "cell_type": "code",
   "execution_count": 2,
   "metadata": {},
   "outputs": [
    {
     "data": {
      "text/plain": [
       "4.0"
      ]
     },
     "execution_count": 2,
     "metadata": {},
     "output_type": "execute_result"
    }
   ],
   "source": [
    "2.0 + 2.0"
   ]
  },
  {
   "cell_type": "code",
   "execution_count": 3,
   "metadata": {},
   "outputs": [
    {
     "data": {
      "text/plain": [
       "7.5"
      ]
     },
     "execution_count": 3,
     "metadata": {},
     "output_type": "execute_result"
    }
   ],
   "source": [
    "2.5 * 3"
   ]
  },
  {
   "cell_type": "code",
   "execution_count": 7,
   "metadata": {},
   "outputs": [
    {
     "data": {
      "text/plain": [
       "0.3333333333333333"
      ]
     },
     "execution_count": 7,
     "metadata": {},
     "output_type": "execute_result"
    }
   ],
   "source": [
    "3 / 9"
   ]
  },
  {
   "cell_type": "markdown",
   "metadata": {},
   "source": [
    "While both deal with numerical data, integers encode whole numbers while floats encode decimal information as well. It's worth knowing the difference between these, since certain operations will specifically expect integers and others will expect floats. Although `3` and `3.0` mean the same thing to us as humans, Python does distinguish between them.\n",
    "\n",
    "Of course, most of our time in Python will involve assigning values of interest to _variables_, instead of just treating it like a fancy manual calculator. A variable, or object, can be thought of as a container for a piece of information we care about.\n",
    "\n",
    "Variables can be named (almost) anything we would like. For instance, let's create a variable `x` with a value of 3:"
   ]
  },
  {
   "cell_type": "code",
   "execution_count": 1,
   "metadata": {},
   "outputs": [],
   "source": [
    "x = 3"
   ]
  },
  {
   "cell_type": "markdown",
   "metadata": {},
   "source": [
    "Note that the variable name is on the left and the value on the right. This can be read as 'let x be 3'.\n",
    "\n",
    "Creating a variable also does not yield any output. However, simply typing the variable name will yield its value as output:"
   ]
  },
  {
   "cell_type": "code",
   "execution_count": 3,
   "metadata": {},
   "outputs": [
    {
     "data": {
      "text/plain": [
       "3"
      ]
     },
     "execution_count": 3,
     "metadata": {},
     "output_type": "execute_result"
    }
   ],
   "source": [
    "x"
   ]
  },
  {
   "cell_type": "markdown",
   "metadata": {},
   "source": [
    "We can now use the variable for the same things we would be able to do with the underlying value:"
   ]
  },
  {
   "cell_type": "code",
   "execution_count": 4,
   "metadata": {},
   "outputs": [
    {
     "data": {
      "text/plain": [
       "6"
      ]
     },
     "execution_count": 4,
     "metadata": {},
     "output_type": "execute_result"
    }
   ],
   "source": [
    "x + 3"
   ]
  },
  {
   "cell_type": "markdown",
   "metadata": {},
   "source": [
    "Before we go further, it's worth mentioning that we can add inline text comments using the `#` symbol. Adding the `#` in a code cell means everything to the right of the `#` will be effectively invisible to Python."
   ]
  },
  {
   "cell_type": "code",
   "execution_count": 5,
   "metadata": {},
   "outputs": [
    {
     "data": {
      "text/plain": [
       "81"
      ]
     },
     "execution_count": 5,
     "metadata": {},
     "output_type": "execute_result"
    }
   ],
   "source": [
    "x ** 4 # x to the power of 4"
   ]
  },
  {
   "cell_type": "markdown",
   "metadata": {},
   "source": [
    "### 1.2.2. Strings encode text data\n",
    "\n",
    "Of course, many of us will want to encode and work with text information as well. Text variables in Python are referred to as **strings**. To create a string, we have to specifically use quotes:"
   ]
  },
  {
   "cell_type": "code",
   "execution_count": 6,
   "metadata": {},
   "outputs": [],
   "source": [
    "my_string = 'Banana'"
   ]
  },
  {
   "cell_type": "markdown",
   "metadata": {},
   "source": [
    "Note that these can be double or single quotes, but you have to be consistent!"
   ]
  },
  {
   "cell_type": "markdown",
   "metadata": {},
   "source": [
    "### 1.3. Functions, methods, and attributes\n",
    "\n",
    "\n",
    "INTRODUCE FUNCTIONS FIRST"
   ]
  },
  {
   "cell_type": "code",
   "execution_count": null,
   "metadata": {},
   "outputs": [],
   "source": []
  },
  {
   "cell_type": "code",
   "execution_count": null,
   "metadata": {},
   "outputs": [],
   "source": []
  },
  {
   "cell_type": "code",
   "execution_count": null,
   "metadata": {},
   "outputs": [],
   "source": []
  },
  {
   "cell_type": "markdown",
   "metadata": {},
   "source": [
    "One of the most powerful features of Python is the fact that different object types have different _methods_ and _attributes_ associated with them. These can be thought of as functions and information that are unique to certain object types. \n",
    "\n",
    "Why make functions that are object-specific? Well, for example, consider a method that will turn all text uppercase. It would only really make sense to have this method work with strings, since there's no 'uppercase' for the number 3. \n",
    "\n",
    "To use a method that belongs to an object, we use `.` followed by the name of the method and finally a pair of parentheses `()`. Let's try the `upper` method on `my_string`:"
   ]
  },
  {
   "cell_type": "code",
   "execution_count": 7,
   "metadata": {},
   "outputs": [
    {
     "data": {
      "text/plain": [
       "'BANANA'"
      ]
     },
     "execution_count": 7,
     "metadata": {},
     "output_type": "execute_result"
    }
   ],
   "source": [
    "my_string.upper()"
   ]
  },
  {
   "cell_type": "markdown",
   "metadata": {},
   "source": [
    "We have a pair of parentheses at the end of methods because some methods will require further input. However, for something simple like `.upper()`, the only input is the object itself, which we don't need to type out a second time. "
   ]
  },
  {
   "cell_type": "code",
   "execution_count": null,
   "metadata": {},
   "outputs": [],
   "source": []
  },
  {
   "cell_type": "markdown",
   "metadata": {},
   "source": [
    "## 1.4 A few other object types\n",
    "\n",
    "- lists\n",
    "- list indexing\n",
    "- dicts"
   ]
  },
  {
   "cell_type": "code",
   "execution_count": null,
   "metadata": {},
   "outputs": [],
   "source": []
  },
  {
   "cell_type": "code",
   "execution_count": null,
   "metadata": {},
   "outputs": [],
   "source": []
  },
  {
   "cell_type": "markdown",
   "metadata": {},
   "source": [
    "## 1.5 For loops and conditionals"
   ]
  },
  {
   "cell_type": "code",
   "execution_count": null,
   "metadata": {},
   "outputs": [],
   "source": []
  },
  {
   "cell_type": "code",
   "execution_count": null,
   "metadata": {},
   "outputs": [],
   "source": []
  },
  {
   "cell_type": "markdown",
   "metadata": {},
   "source": [
    "## 1.6 Reading from and writing to files in Python"
   ]
  },
  {
   "cell_type": "code",
   "execution_count": null,
   "metadata": {},
   "outputs": [],
   "source": []
  },
  {
   "cell_type": "code",
   "execution_count": null,
   "metadata": {},
   "outputs": [],
   "source": []
  },
  {
   "cell_type": "code",
   "execution_count": null,
   "metadata": {},
   "outputs": [],
   "source": []
  }
 ],
 "metadata": {
  "kernelspec": {
   "display_name": "Python 3",
   "language": "python",
   "name": "python3"
  },
  "language_info": {
   "codemirror_mode": {
    "name": "ipython",
    "version": 3
   },
   "file_extension": ".py",
   "mimetype": "text/x-python",
   "name": "python",
   "nbconvert_exporter": "python",
   "pygments_lexer": "ipython3",
   "version": "3.8.5"
  }
 },
 "nbformat": 4,
 "nbformat_minor": 4
}
